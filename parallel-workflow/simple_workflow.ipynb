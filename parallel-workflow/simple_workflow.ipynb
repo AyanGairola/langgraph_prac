{
 "cells": [
  {
   "cell_type": "code",
   "execution_count": 1,
   "id": "48cae663",
   "metadata": {},
   "outputs": [],
   "source": [
    "from langgraph.graph import StateGraph, START, END\n",
    "from typing import TypedDict"
   ]
  },
  {
   "cell_type": "code",
   "execution_count": 3,
   "id": "40213cd5",
   "metadata": {},
   "outputs": [],
   "source": [
    "class BatsmanState(TypedDict):\n",
    "    runs: int\n",
    "    balls: int\n",
    "    fours: int\n",
    "    sixes: int\n",
    "    \n",
    "    sr: float\n",
    "    bpb: float\n",
    "    boundary_percent: float\n",
    "    \n",
    "    summary: str"
   ]
  },
  {
   "cell_type": "code",
   "execution_count": 5,
   "id": "253d1ca2",
   "metadata": {},
   "outputs": [],
   "source": [
    "def calc_sr(state: BatsmanState):\n",
    "    sr = state['runs']/state['balls']\n",
    "    sr = sr * 100\n",
    "    return {'sr': sr}"
   ]
  },
  {
   "cell_type": "code",
   "execution_count": 6,
   "id": "1cd4c88b",
   "metadata": {},
   "outputs": [],
   "source": [
    "def calc_bpb(state: BatsmanState):\n",
    "    bpb = state['balls']/(state['fours'] + state['sixes'])\n",
    "    return {'bpb': bpb}"
   ]
  },
  {
   "cell_type": "code",
   "execution_count": 7,
   "id": "356f2146",
   "metadata": {},
   "outputs": [],
   "source": [
    "def calc_bp(state: BatsmanState):\n",
    "    boundary_percent = (((state['fours'] * 4) + (state['sixes'] * 6))/state['runs'])*100\n",
    "    return {'boundary_percent': boundary_percent}"
   ]
  },
  {
   "cell_type": "code",
   "execution_count": 8,
   "id": "9e98dd6c",
   "metadata": {},
   "outputs": [],
   "source": [
    "def summary(state: BatsmanState):\n",
    "    summary = f\"\"\"\n",
    "    Strike Rate - {state['sr']} \\n\n",
    "    Balls per boundary - {state['bpb']} \\n\n",
    "    Boundary percent - {state['boundary_percent']}\n",
    "    \"\"\"\n",
    "    return {'summary': summary}"
   ]
  },
  {
   "cell_type": "code",
   "execution_count": 9,
   "id": "a0a5e163",
   "metadata": {},
   "outputs": [
    {
     "data": {
      "text/plain": [
       "<langgraph.graph.state.StateGraph at 0x121407190>"
      ]
     },
     "execution_count": 9,
     "metadata": {},
     "output_type": "execute_result"
    }
   ],
   "source": [
    "# Define graph\n",
    "graph = StateGraph(BatsmanState)\n",
    "\n",
    "# Add nodes to the graph\n",
    "graph.add_node('calc_sr', calc_sr)\n",
    "graph.add_node('calc_bpb', calc_bpb)\n",
    "graph.add_node('calc_bp', calc_bp)\n",
    "graph.add_node('summary', summary)\n",
    "\n",
    "# Add edges to the graph\n",
    "graph.add_edge(START, 'calc_sr')\n",
    "graph.add_edge(START, 'calc_bpb')\n",
    "graph.add_edge(START, 'calc_bp')\n",
    "\n",
    "graph.add_edge('calc_sr', 'summary')\n",
    "graph.add_edge('calc_bpb', 'summary')\n",
    "graph.add_edge('calc_bp', 'summary')\n",
    "\n",
    "graph.add_edge('summary', END)\n"
   ]
  },
  {
   "cell_type": "code",
   "execution_count": 10,
   "id": "d499bcd7",
   "metadata": {},
   "outputs": [],
   "source": [
    "# Compile the graph\n",
    "workflow = graph.compile()"
   ]
  },
  {
   "cell_type": "code",
   "execution_count": 11,
   "id": "8a8538f9",
   "metadata": {},
   "outputs": [
    {
     "data": {
      "image/png": "[encoded data removed]",
      "text/plain": [
       "<IPython.core.display.Image object>"
      ]
     },
     "execution_count": 11,
     "metadata": {},
     "output_type": "execute_result"
    }
   ],
   "source": [
    "from IPython.display import Image\n",
    "Image(workflow.get_graph().draw_mermaid_png())"
   ]
  },
  {
   "cell_type": "code",
   "execution_count": 12,
   "id": "3a4ad2f1",
   "metadata": {},
   "outputs": [
    {
     "data": {
      "text/plain": [
       "{'runs': 200,\n",
       " 'balls': 120,\n",
       " 'fours': 16,\n",
       " 'sixes': 10,\n",
       " 'sr': 166.66666666666669,\n",
       " 'bpb': 4.615384615384615,\n",
       " 'boundary_percent': 62.0,\n",
       " 'summary': '\\n    Strike Rate - 166.66666666666669 \\n\\n    Balls per boundary - 4.615384615384615 \\n\\n    Boundary percent - 62.0\\n    '}"
      ]
     },
     "execution_count": 12,
     "metadata": {},
     "output_type": "execute_result"
    }
   ],
   "source": [
    "initial_state = {'runs': 200, 'balls': 120, 'fours': 16, 'sixes': 10}\n",
    "workflow.invoke(initial_state)"
   ]
  },
  {
   "cell_type": "code",
   "execution_count": null,
   "id": "f789ad24",
   "metadata": {},
   "outputs": [],
   "source": []
  }
 ],
 "metadata": {
  "kernelspec": {
   "display_name": "langgraph-prac",
   "language": "python",
   "name": "python3"
  },
  "language_info": {
   "codemirror_mode": {
    "name": "ipython",
    "version": 3
   },
   "file_extension": ".py",
   "mimetype": "text/x-python",
   "name": "python",
   "nbconvert_exporter": "python",
   "pygments_lexer": "ipython3",
   "version": "3.9.23"
  }
 },
 "nbformat": 4,
 "nbformat_minor": 5
}
