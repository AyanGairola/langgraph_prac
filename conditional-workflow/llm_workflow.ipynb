{
 "cells": [
  {
   "cell_type": "code",
   "execution_count": 5,
   "id": "0326ae0d",
   "metadata": {},
   "outputs": [],
   "source": [
    "from langgraph.graph import START, END, StateGraph\n",
    "from langchain_groq import ChatGroq\n",
    "from dotenv import load_dotenv\n",
    "from pydantic import BaseModel, Field\n",
    "from typing import TypedDict, Literal"
   ]
  },
  {
   "cell_type": "code",
   "execution_count": 3,
   "id": "66191b15",
   "metadata": {},
   "outputs": [
    {
     "data": {
      "text/plain": [
       "True"
      ]
     },
     "execution_count": 3,
     "metadata": {},
     "output_type": "execute_result"
    }
   ],
   "source": [
    "load_dotenv()"
   ]
  },
  {
   "cell_type": "code",
   "execution_count": 4,
   "id": "42030bac",
   "metadata": {},
   "outputs": [],
   "source": [
    "model = ChatGroq(model=\"openai/gpt-oss-20b\")"
   ]
  },
  {
   "cell_type": "code",
   "execution_count": 8,
   "id": "5ca0f74e",
   "metadata": {},
   "outputs": [],
   "source": [
    "class SentimentSchema(BaseModel):\n",
    "    sentiment: Literal[\"positive\", \"negative\"] = Field(description='Sentiment of User Review')"
   ]
  },
  {
   "cell_type": "code",
   "execution_count": 9,
   "id": "191c63a1",
   "metadata": {},
   "outputs": [],
   "source": [
    "class DiagnosisSchema(BaseModel):\n",
    "    issue_type: Literal[\"UX\", \"Performance\", \"Bug\", \"Support\", \"Other\"] = Field(description='The category of issue mentioned in the review')\n",
    "    tone: Literal[\"angry\", \"frustrated\", \"disappointed\", \"calm\"] = Field(description='The emotional tone expressed by the user')\n",
    "    urgency: Literal[\"low\", \"medium\", \"high\"] = Field(description='How urgent or critical the issue appears to be')"
   ]
  },
  {
   "cell_type": "code",
   "execution_count": 10,
   "id": "c776da98",
   "metadata": {},
   "outputs": [],
   "source": [
    "sentiment_struct_model = model.with_structured_output(SentimentSchema)\n",
    "diagnosis_struct_model = model.with_structured_output(DiagnosisSchema)"
   ]
  },
  {
   "cell_type": "code",
   "execution_count": null,
   "id": "cffba81a",
   "metadata": {},
   "outputs": [
    {
     "data": {
      "text/plain": [
       "SentimentSchema(sentiment='negative')"
      ]
     },
     "execution_count": 13,
     "metadata": {},
     "output_type": "execute_result"
    }
   ],
   "source": [
    "prompt = 'What is the sentiment of the following review - I ducking hate the software due to the bugs it have and its laggy nature'\n",
    "sentiment_struct_model.invoke(prompt)"
   ]
  },
  {
   "cell_type": "code",
   "execution_count": 14,
   "id": "6798191e",
   "metadata": {},
   "outputs": [],
   "source": [
    "class ReviewState(TypedDict):\n",
    "    sentiment: Literal[\"positive\", \"negative\"]\n",
    "    review: str\n",
    "    diagnosis: dict\n",
    "    response: str"
   ]
  },
  {
   "cell_type": "code",
   "execution_count": 16,
   "id": "44f32ed9",
   "metadata": {},
   "outputs": [],
   "source": [
    "def find_sentiment(state: ReviewState):\n",
    "    curr_review = state['review']\n",
    "    prompt = f'What is the sentiment of the following review - {curr_review}'\n",
    "    sentiment = sentiment_struct_model.invoke(prompt)\n",
    "    \n",
    "    return {'sentiment': sentiment}"
   ]
  },
  {
   "cell_type": "code",
   "execution_count": 25,
   "id": "72ba84b7",
   "metadata": {},
   "outputs": [],
   "source": [
    "def check_sentiment(state: ReviewState) -> Literal[\"positive_response\", \"run_diag\"]:\n",
    "    return 'positive_response' if state['sentiment'] == 'positive' else 'run_diag'"
   ]
  },
  {
   "cell_type": "code",
   "execution_count": 26,
   "id": "2d8a5907",
   "metadata": {},
   "outputs": [],
   "source": [
    "def positive_response(state: ReviewState):\n",
    "    prompt = f\"\"\"Write a warm thank-you message in response to this review:\n",
    "    \\n\\n\\\"{state['review']}\\\"\\n\n",
    "Also, kindly ask the user to leave feedback on our website.\"\"\"\n",
    "\n",
    "    response = model.invoke(prompt).conten\n",
    "    return {'response' : response}"
   ]
  },
  {
   "cell_type": "code",
   "execution_count": 27,
   "id": "9d212293",
   "metadata": {},
   "outputs": [],
   "source": [
    "def run_diag(state: ReviewState):\n",
    "\n",
    "    prompt = f\"\"\"Diagnose this negative review:\\n\\n{state['review']}\\n\"\n",
    "    \"Return issue_type, tone, and urgency.\"\"\"\n",
    "    \n",
    "    response = diagnosis_struct_model.invoke(prompt)\n",
    "    return {'diagnosis': response.model_dump()}"
   ]
  },
  {
   "cell_type": "code",
   "execution_count": 28,
   "id": "628ee6e2",
   "metadata": {},
   "outputs": [],
   "source": [
    "def negative_response(state: ReviewState):\n",
    "    diagnosis = state['diagnosis']\n",
    "    prompt = f\"\"\"You are a support assistant.\n",
    "The user had a '{diagnosis['issue_type']}' issue, sounded '{diagnosis['tone']}', and marked urgency as '{diagnosis['urgency']}'.\n",
    "Write an empathetic, helpful resolution message.\n",
    "\"\"\"\n",
    "    response = model.invoke(prompt).content\n",
    "    return {'response': response}"
   ]
  },
  {
   "cell_type": "code",
   "execution_count": 29,
   "id": "e033f24e",
   "metadata": {},
   "outputs": [
    {
     "data": {
      "text/plain": [
       "<langgraph.graph.state.StateGraph at 0x10fbf75b0>"
      ]
     },
     "execution_count": 29,
     "metadata": {},
     "output_type": "execute_result"
    }
   ],
   "source": [
    "# Define graph\n",
    "graph = StateGraph(ReviewState)\n",
    "\n",
    "# Add Nodes\n",
    "graph.add_node('find_sentiment', find_sentiment)\n",
    "graph.add_node('run_diag', run_diag)\n",
    "graph.add_node('negative_response', negative_response)\n",
    "graph.add_node('positive_response',positive_response)\n",
    "\n",
    "# Add Edges\n",
    "graph.add_edge(START, 'find_sentiment')\n",
    "graph.add_conditional_edges('find_sentiment', check_sentiment)\n",
    "graph.add_edge('run_diag', 'negative_response')\n",
    "graph.add_edge('positive_response', END)\n",
    "graph.add_edge('negative_response', END)"
   ]
  },
  {
   "cell_type": "code",
   "execution_count": 30,
   "id": "6e604134",
   "metadata": {},
   "outputs": [],
   "source": [
    "# COmpile the graph\n",
    "workflow = graph.compile()"
   ]
  },
  {
   "cell_type": "code",
   "execution_count": 31,
   "id": "48e64c5b",
   "metadata": {},
   "outputs": [
    {
     "data": {
      "image/png": "[encoded data removed]",
      "text/plain": [
       "<langgraph.graph.state.CompiledStateGraph object at 0x10fbadb80>"
      ]
     },
     "execution_count": 31,
     "metadata": {},
     "output_type": "execute_result"
    }
   ],
   "source": [
    "workflow"
   ]
  },
  {
   "cell_type": "code",
   "execution_count": 35,
   "id": "79ddd2e4",
   "metadata": {},
   "outputs": [
    {
     "data": {
      "text/plain": [
       "{'sentiment': SentimentSchema(sentiment='negative'),\n",
       " 'review': 'I ducking hate the software due to the bugs it have and its laggy nature',\n",
       " 'diagnosis': {'issue_type': 'Bug', 'tone': 'angry', 'urgency': 'high'},\n",
       " 'response': 'Hi there,\\n\\nI’m really sorry to hear you’re running into this bug – I can understand how frustrating it must be, especially when it’s happening right now. I’m here to help get this sorted out for you as quickly as possible.\\n\\n**What we’re going to do next**\\n\\n1. **Confirm the issue** – Could you let me know the exact error message you’re seeing, the steps that lead to it, and whether it happens on all devices or just one? If you have a screenshot or a short screen recording, that would be incredibly helpful.\\n\\n2. **Quick work‑arounds** – While we dig into the root cause, here are a couple of things you can try right away:\\n   - **Clear your browser cache** (or try a different browser) – sometimes stale data can trigger odd errors.\\n   - **Restart the app** (or log out and back in) – a fresh session can resolve temporary glitches.\\n   - **Check for updates** – make sure you’re running the latest version of the app/browser.\\n\\n3. **Escalate to Engineering** – I’ve flagged this as a high‑priority ticket and routed it to our engineering team. They’re already looking into it, and I’ll make sure they have all the details you provide.\\n\\n4. **Stay in the loop** – I’ll send you a confirmation email with a ticket number and an estimated time‑frame for a fix. If anything changes or you get more information, just reply to that email or reply here – I’ll keep the conversation in one place.\\n\\n**What you can expect**\\n\\n- **Immediate response**: You’ll receive an acknowledgment from me within the next 30 minutes.\\n- **Resolution time**: Most bugs of this nature are fixed within 24–48 hours, but we’ll keep you updated if it takes longer.\\n- **Follow‑up**: Once the fix is deployed, I’ll personally confirm that the issue is resolved and offer any additional support you might need.\\n\\nAgain, I’m really sorry for the inconvenience you’re experiencing. Your time is valuable, and we’re committed to getting this back on track for you as fast as we can.\\n\\nThank you for your patience, and please let me know the details whenever you’re ready.\\n\\nBest regards,\\n\\n[Your Name]  \\nSupport Team  \\n[Company]'}"
      ]
     },
     "execution_count": 35,
     "metadata": {},
     "output_type": "execute_result"
    }
   ],
   "source": [
    "initial_state = {'review' : 'I ducking hate the software due to the bugs it have and its laggy nature'}\n",
    "workflow.invoke(initial_state)"
   ]
  },
  {
   "cell_type": "code",
   "execution_count": null,
   "id": "1dd7d0f7",
   "metadata": {},
   "outputs": [],
   "source": []
  }
 ],
 "metadata": {
  "kernelspec": {
   "display_name": "langgraph-prac",
   "language": "python",
   "name": "python3"
  },
  "language_info": {
   "codemirror_mode": {
    "name": "ipython",
    "version": 3
   },
   "file_extension": ".py",
   "mimetype": "text/x-python",
   "name": "python",
   "nbconvert_exporter": "python",
   "pygments_lexer": "ipython3",
   "version": "3.9.23"
  }
 },
 "nbformat": 4,
 "nbformat_minor": 5
}
