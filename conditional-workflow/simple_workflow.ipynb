{
 "cells": [
  {
   "cell_type": "code",
   "execution_count": 1,
   "id": "c8ef8a99",
   "metadata": {},
   "outputs": [],
   "source": [
    "from langgraph.graph import StateGraph, START, END\n",
    "from typing import TypedDict, Literal"
   ]
  },
  {
   "cell_type": "code",
   "execution_count": 2,
   "id": "1a2e54ae",
   "metadata": {},
   "outputs": [],
   "source": [
    "class QuadState(TypedDict):\n",
    "    a: int\n",
    "    b: int\n",
    "    c: int\n",
    "    \n",
    "    equation: str\n",
    "    discriminant: float\n",
    "    result: str"
   ]
  },
  {
   "cell_type": "code",
   "execution_count": 3,
   "id": "ad8067bf",
   "metadata": {},
   "outputs": [],
   "source": [
    "def show_equation(state: QuadState):\n",
    "    equation = f'{state[\"a\"]}x2{state[\"b\"]}x{state[\"c\"]}'\n",
    "    return {'equation':equation}"
   ]
  },
  {
   "cell_type": "code",
   "execution_count": 4,
   "id": "5ef67bf3",
   "metadata": {},
   "outputs": [],
   "source": [
    "def calculate_discriminant(state: QuadState):\n",
    "    discriminant = state[\"b\"]**2 - (4*state[\"a\"]*state[\"c\"])\n",
    "    return {'discriminant': discriminant}"
   ]
  },
  {
   "cell_type": "code",
   "execution_count": 5,
   "id": "5511ee46",
   "metadata": {},
   "outputs": [],
   "source": [
    "def real_roots(state: QuadState):\n",
    "    root1 = (-state[\"b\"] + state[\"discriminant\"]**0.5)/(2*state[\"a\"])\n",
    "    root2 = (-state[\"b\"] - state[\"discriminant\"]**0.5)/(2*state[\"a\"])\n",
    "\n",
    "    result = f'The roots are {root1} and {root2}'\n",
    "\n",
    "    return {'result': result}"
   ]
  },
  {
   "cell_type": "code",
   "execution_count": 7,
   "id": "afeb41c3",
   "metadata": {},
   "outputs": [],
   "source": [
    "def repeating_roots(state: QuadState):\n",
    "    root = (-state[\"b\"])/(2*state[\"a\"])\n",
    "    result = f'Only repeating root is {root}'\n",
    "    return {'result': result}"
   ]
  },
  {
   "cell_type": "code",
   "execution_count": 8,
   "id": "6aa43626",
   "metadata": {},
   "outputs": [],
   "source": [
    "def img_roots(state: QuadState):\n",
    "    result = f'No real roots'\n",
    "    return {'result': result}"
   ]
  },
  {
   "cell_type": "code",
   "execution_count": 13,
   "id": "51f542fc",
   "metadata": {},
   "outputs": [],
   "source": [
    "def check_condition(state: QuadState) -> Literal[\"real_roots\", \"repeating_roots\", \"img_roots\"]:\n",
    "    if state['discriminant'] > 0:\n",
    "        return \"real_roots\"\n",
    "    elif state['discriminant'] == 0:\n",
    "        return \"repeating_roots\"\n",
    "    else:\n",
    "        return \"img_roots\""
   ]
  },
  {
   "cell_type": "code",
   "execution_count": 14,
   "id": "3890708b",
   "metadata": {},
   "outputs": [
    {
     "data": {
      "text/plain": [
       "<langgraph.graph.state.StateGraph at 0x10c7d34f0>"
      ]
     },
     "execution_count": 14,
     "metadata": {},
     "output_type": "execute_result"
    }
   ],
   "source": [
    "# Define the graph\n",
    "graph = StateGraph(QuadState)\n",
    "\n",
    "# ADd the nodes\n",
    "graph.add_node('show_equation', show_equation)\n",
    "graph.add_node('calculate_discriminant', calculate_discriminant)\n",
    "graph.add_node('real_roots', real_roots)\n",
    "graph.add_node('repeating_roots', repeating_roots)\n",
    "graph.add_node('img_roots', img_roots)\n",
    "\n",
    "# Add the edges\n",
    "graph.add_edge(START, 'show_equation')\n",
    "graph.add_edge('show_equation', 'calculate_discriminant')\n",
    "graph.add_conditional_edges('calculate_discriminant', check_condition)\n",
    "graph.add_edge('real_roots', END)\n",
    "graph.add_edge('repeating_roots', END)\n",
    "graph.add_edge('img_roots', END)"
   ]
  },
  {
   "cell_type": "code",
   "execution_count": 15,
   "id": "b4c372d1",
   "metadata": {},
   "outputs": [],
   "source": [
    "# Compile the graph\n",
    "\n",
    "workflow = graph.compile()"
   ]
  },
  {
   "cell_type": "code",
   "execution_count": 16,
   "id": "33c66e60",
   "metadata": {},
   "outputs": [
    {
     "data": {
      "image/png": "[encoded data removed]",
      "text/plain": [
       "<langgraph.graph.state.CompiledStateGraph object at 0x10c79fdf0>"
      ]
     },
     "execution_count": 16,
     "metadata": {},
     "output_type": "execute_result"
    }
   ],
   "source": [
    "workflow"
   ]
  },
  {
   "cell_type": "code",
   "execution_count": 20,
   "id": "68977fa0",
   "metadata": {},
   "outputs": [
    {
     "data": {
      "text/plain": [
       "{'a': 1356,\n",
       " 'b': 2465,\n",
       " 'c': 21,\n",
       " 'equation': '1356x22465x21',\n",
       " 'discriminant': 5962321,\n",
       " 'result': 'The roots are -0.008559573673343894 and -1.8092870339962728'}"
      ]
     },
     "execution_count": 20,
     "metadata": {},
     "output_type": "execute_result"
    }
   ],
   "source": [
    "initial_state = {'a': 1356, 'b': 2465, 'c': 21}\n",
    "workflow.invoke(initial_state)"
   ]
  },
  {
   "cell_type": "code",
   "execution_count": null,
   "id": "cd12084f",
   "metadata": {},
   "outputs": [],
   "source": []
  }
 ],
 "metadata": {
  "kernelspec": {
   "display_name": "langgraph-prac",
   "language": "python",
   "name": "python3"
  },
  "language_info": {
   "codemirror_mode": {
    "name": "ipython",
    "version": 3
   },
   "file_extension": ".py",
   "mimetype": "text/x-python",
   "name": "python",
   "nbconvert_exporter": "python",
   "pygments_lexer": "ipython3",
   "version": "3.9.23"
  }
 },
 "nbformat": 4,
 "nbformat_minor": 5
}
